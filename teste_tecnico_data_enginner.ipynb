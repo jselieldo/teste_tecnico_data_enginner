{
 "cells": [
  {
   "cell_type": "markdown",
   "id": "a141c872-f8cd-4de2-ade3-8efc2be026a2",
   "metadata": {},
   "source": [
    "# Teste\n",
    "\n",
    "O teste a ser realizado é composto de 2 partes:\n",
    "\n",
    "- alguns exercícios de programação em SQL\n",
    "- alguns exercícios de programação com PySpark\n",
    "\n",
    "Você pode escolher qual das partes do exercício vai fazer primeiro."
   ]
  },
  {
   "cell_type": "markdown",
   "id": "011597ac-74a9-4fcb-a3c5-0684c6695344",
   "metadata": {},
   "source": [
    "# Setup Geral\n",
    "Aqui sera configurado o ambiente para possibilitar a execução do Spark\n",
    "\n",
    "### Installing packages\r\n",
    "- Run `!mamba list \"package_name\"` command to check the package installation status. \r\n",
    "- Run the `!mamba install \"package_name\"` to install a packagege"
   ]
  },
  {
   "cell_type": "code",
   "execution_count": null,
   "id": "b1ed8604-63ff-45bc-9502-2cf7f461f2d4",
   "metadata": {},
   "outputs": [],
   "source": [
    "#Configuração do Abiente\n",
    "%%bash\n",
    "mkdir bases_teste\n",
    "mkdir dev\n",
    "mamba install pyspark -qq > dev/output_pyspark.txt\n",
    "mamba install openjdk -qq > dev/output_openjdk.txt"
   ]
  },
  {
   "cell_type": "code",
   "execution_count": null,
   "id": "491135c2-3c82-46d4-85a4-988107e6caed",
   "metadata": {},
   "outputs": [],
   "source": [
    "#Download das Bases utilizadas no teste\n",
    "%%bash\n",
    "curl https://raw.githubusercontent.com/jselieldo/teste_tecnico_data_enginner/master/bases_teste/produtos.csv -o bases_teste/produtos.csv\n",
    "curl https://raw.githubusercontent.com/jselieldo/teste_tecnico_data_enginner/master/bases_teste/vendas.csv -o bases_teste/vendas.csv\n",
    "curl https://raw.githubusercontent.com/jselieldo/teste_tecnico_data_enginner/master/bases_teste/usuarios.csv -o bases_teste/usuarios.csv"
   ]
  },
  {
   "cell_type": "markdown",
   "id": "5636aa2f-2dde-4f9a-a38b-38ee5cdf5f89",
   "metadata": {},
   "source": [
    "# SQL"
   ]
  },
  {
   "cell_type": "markdown",
   "id": "50e7485b-84dd-439d-b9cb-5ca2fcb9de80",
   "metadata": {},
   "source": [
    "**Setup**"
   ]
  },
  {
   "cell_type": "code",
   "execution_count": null,
   "id": "51e5e659-df47-499d-a125-7b0350502fb0",
   "metadata": {},
   "outputs": [],
   "source": [
    "# Setup Spark Session\n",
    "from pyspark.sql import SparkSession\n",
    "spark = SparkSession.builder.appName(\"AtividadeSQL\").getOrCreate()"
   ]
  },
  {
   "cell_type": "code",
   "execution_count": null,
   "id": "cc60e34e-e69c-433a-844c-bf461f699a8f",
   "metadata": {},
   "outputs": [],
   "source": [
    "#Criando as tabelas\n",
    "\n",
    "def cria_tabela(path, nome_tabela):\n",
    "    df = spark.read.csv(path, inferSchema=True, header=True)\n",
    "    df.createOrReplaceTempView(nome_tabela)\n",
    "    return df\n",
    "\n",
    "usuarios = cria_tabela(\"bases_teste/usuarios.csv\", \"usuarios\")\n",
    "produtos = cria_tabela(\"bases_teste/produtos.csv\", \"produtos\")\n",
    "vendas = cria_tabela(\"bases_teste/vendas.csv\", \"vendas\")"
   ]
  },
  {
   "cell_type": "markdown",
   "id": "4266fea3-47df-48af-b37c-86254c59fca6",
   "metadata": {},
   "source": [
    "**Função para execução de queries**"
   ]
  },
  {
   "cell_type": "code",
   "execution_count": null,
   "id": "6347bdf1-d700-4129-837d-560c4814e530",
   "metadata": {},
   "outputs": [],
   "source": [
    "def q(query, n=30):\n",
    "    return spark.sql(query).show(n=n, truncate=False)"
   ]
  },
  {
   "cell_type": "markdown",
   "id": "5cd06a27-d840-4e35-af06-a6c0499e420f",
   "metadata": {},
   "source": [
    "\n",
    "Para executar alguma consulta, basta colocar seu código sql dentro da função q como no exemplo abaixo:\n",
    "\n",
    "```python\n",
    "q(\"\"\"\n",
    "    SELECT *\n",
    "    FROM usuarios\n",
    "\"\"\")\n",
    "```\n",
    "\n",
    "e o resultado será exibido na tela.\n",
    "\n",
    "---\n",
    "\n",
    "Nesta parte da atividade, você vai trabalhar com três tabelas:\n",
    "\n",
    "- **produtos** (cod_produto: integer, nome_produto: string, categoria_produto: string, valor_produto: double)\n",
    "- **usuarios** (cod_usuario: integer, data_cadastro: date, faixa_etaria: string, cidade: string, estado: string)\n",
    "- **vendas** (cod_usuario: integer, cod_produto: integer, data_compra: date, quantidade: integer, valor: double)"
   ]
  },
  {
   "cell_type": "markdown",
   "id": "e909c024-492b-4753-8af0-2b862032275a",
   "metadata": {},
   "source": [
    "1) Qual foi a quantidade de vendas por estado para cada ano e mês?"
   ]
  },
  {
   "cell_type": "code",
   "execution_count": null,
   "id": "c8a3afd9-60c7-48ac-b76b-5b1916f86ccf",
   "metadata": {},
   "outputs": [],
   "source": []
  },
  {
   "cell_type": "markdown",
   "id": "fabe648a-2fc9-4463-97de-8964789f766d",
   "metadata": {},
   "source": [
    "2) Quais são os usuários por Estado que mais compraram em todo o período analisado e qual foi o número de compras realizadas, a quantidade total de itens comprados e valor total pago por usuário?"
   ]
  },
  {
   "cell_type": "code",
   "execution_count": null,
   "id": "51d7fee6-bf2b-4f04-861d-6d8fd72dfb4d",
   "metadata": {},
   "outputs": [],
   "source": []
  },
  {
   "cell_type": "markdown",
   "id": "044c08b1-c943-4f09-96ef-0b3d93f4cebc",
   "metadata": {},
   "source": [
    "3) Quais são os usuários que não fizeram nenhuma compra?"
   ]
  },
  {
   "cell_type": "code",
   "execution_count": null,
   "id": "096bbbb1-e491-402d-8dd4-7431437a88e0",
   "metadata": {},
   "outputs": [],
   "source": []
  },
  {
   "cell_type": "code",
   "execution_count": null,
   "id": "9af51a8b-084f-44e1-a6b1-9d5863a1e698",
   "metadata": {},
   "outputs": [],
   "source": [
    "spark.stop()"
   ]
  },
  {
   "cell_type": "markdown",
   "id": "167789e7-5f8a-4738-815b-ed9c5db2ef3d",
   "metadata": {},
   "source": [
    "# PySpark"
   ]
  },
  {
   "cell_type": "code",
   "execution_count": null,
   "id": "e7c6e58b-a795-46a6-aa5e-128e8076583e",
   "metadata": {},
   "outputs": [],
   "source": [
    "# Setup Spark Session\n",
    "from pyspark.sql import SparkSession\n",
    "spark = SparkSession.builder.appName(\"AtividadePySpark\").getOrCreate()"
   ]
  },
  {
   "cell_type": "code",
   "execution_count": null,
   "id": "2fc768bb-957b-49bd-95bc-9e5ab507011d",
   "metadata": {},
   "outputs": [],
   "source": [
    "def cria_tabela(path, nome_tabela):\n",
    "    df = spark.read.csv(path, inferSchema=True, header=True)\n",
    "    df.createOrReplaceTempView(nome_tabela)\n",
    "    return df\n",
    "\n",
    "usuarios = cria_tabela(\"bases_teste/usuarios.csv\", \"usuarios\")\n",
    "produtos = cria_tabela(\"bases_teste/produtos.csv\", \"produtos\")\n",
    "vendas = cria_tabela(\"bases_teste/vendas.csv\", \"vendas\")"
   ]
  },
  {
   "cell_type": "markdown",
   "id": "c59721ef-24ce-4f27-803b-74f322222469",
   "metadata": {},
   "source": [
    "Responda às perguntas a seguir utilizando **Spark DATAFRAMES**."
   ]
  },
  {
   "cell_type": "markdown",
   "id": "adf58bc8-90da-41aa-9630-5da8e03f7af9",
   "metadata": {},
   "source": [
    "1) Qual foi o total de compras realizadas, o total de itens comprados e a receita total obtida em todo o período analisado?"
   ]
  },
  {
   "cell_type": "code",
   "execution_count": null,
   "id": "967bb950-e3dd-43eb-9587-28aba9461341",
   "metadata": {},
   "outputs": [],
   "source": []
  },
  {
   "cell_type": "markdown",
   "id": "b28f19a7-8c86-496f-9fae-0caa611cc55d",
   "metadata": {},
   "source": [
    "2) Quais são os 3 produtos mais comprados dos estados da região Sul e Sudeste, a quantidade de itens comprados, o valor total pago e a média de preço paga?"
   ]
  },
  {
   "cell_type": "code",
   "execution_count": null,
   "id": "ab82bf86-ce1a-4afc-b8e7-6a7684b4a542",
   "metadata": {},
   "outputs": [],
   "source": []
  },
  {
   "cell_type": "markdown",
   "id": "278e08ff-22ff-4acd-bd46-31c4d915c123",
   "metadata": {},
   "source": [
    "3) Cire dataframe enriquecendo a tabela vendas, com as informações de produtos (nome_produto, categoria_produto, valor_produto) e usuarios (cidade, estado). Grave essa dataframe em formato parquet, paricionando por ano_venda, mes_venda e dia_venda"
   ]
  },
  {
   "cell_type": "code",
   "execution_count": null,
   "id": "fb2b3169-4407-4a6a-a19a-7d897b022356",
   "metadata": {},
   "outputs": [],
   "source": []
  },
  {
   "cell_type": "code",
   "execution_count": null,
   "id": "bcb69590-4d41-41a6-9a7f-3ea3ced79748",
   "metadata": {},
   "outputs": [],
   "source": [
    "spark.stop()"
   ]
  }
 ],
 "metadata": {
  "kernelspec": {
   "display_name": "Python 3 (ipykernel)",
   "language": "python",
   "name": "python3"
  },
  "language_info": {
   "codemirror_mode": {
    "name": "ipython",
    "version": 3
   },
   "file_extension": ".py",
   "mimetype": "text/x-python",
   "name": "python",
   "nbconvert_exporter": "python",
   "pygments_lexer": "ipython3",
   "version": "3.10.12"
  }
 },
 "nbformat": 4,
 "nbformat_minor": 5
}
